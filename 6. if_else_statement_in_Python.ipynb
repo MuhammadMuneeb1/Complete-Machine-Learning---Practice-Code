{
  "cells": [
    {
      "cell_type": "markdown",
      "metadata": {
        "id": "gZ5WjgZkuOmJ"
      },
      "source": [
        "Simple if else statement"
      ]
    },
    {
      "cell_type": "code",
      "execution_count": 1,
      "metadata": {
        "colab": {
          "base_uri": "https://localhost:8080/"
        },
        "id": "b4-lJOCXs9FL",
        "outputId": "88d4241e-0974-49d2-d55d-21fc709c34ea"
      },
      "outputs": [
        {
          "name": "stdout",
          "output_type": "stream",
          "text": [
            "b is greater than a\n"
          ]
        }
      ],
      "source": [
        "a = 30\n",
        "b = 50\n",
        "\n",
        "if(a>b):\n",
        "  print('a is greater than b')\n",
        "\n",
        "else:\n",
        "  print('b is greater than a')"
      ]
    },
    {
      "cell_type": "code",
      "execution_count": 5,
      "metadata": {
        "colab": {
          "base_uri": "https://localhost:8080/"
        },
        "id": "zC5G3RaCuxA9",
        "outputId": "4fb9d625-9b39-45e3-94aa-76b245f95c0b"
      },
      "outputs": [
        {
          "name": "stdout",
          "output_type": "stream",
          "text": [
            "Enter the value of a: 10\n",
            "Enter the value of b: 5\n",
            "1st number is greater than 2nd number\n"
          ]
        }
      ],
      "source": [
        "a = int(input('Enter the value of a: '))\n",
        "b = int(input('Enter the value of b: '))\n",
        "\n",
        "if(a>b):\n",
        "  print('1st number is greater than 2nd number')\n",
        "\n",
        "else:\n",
        "  print('2nd number is greater than 1st number')"
      ]
    },
    {
      "cell_type": "markdown",
      "metadata": {
        "id": "SGX1_PV81PhU"
      },
      "source": [
        "if elif else statement"
      ]
    },
    {
      "cell_type": "code",
      "execution_count": 6,
      "metadata": {
        "colab": {
          "base_uri": "https://localhost:8080/"
        },
        "id": "eN2bKQT30xvz",
        "outputId": "6af37db1-f0bc-4949-88d1-b5e6a2818b23"
      },
      "outputs": [
        {
          "name": "stdout",
          "output_type": "stream",
          "text": [
            "c is the greatest number\n"
          ]
        }
      ],
      "source": [
        "a = 15\n",
        "b = 25\n",
        "c = 30\n",
        "\n",
        "if(a>b>c):\n",
        "  print('a is the greatest number')\n",
        "\n",
        "elif(b>a>c):\n",
        "  print('b is the greatest number')\n",
        "\n",
        "else:\n",
        "  print('c is the greatest number')"
      ]
    },
    {
      "cell_type": "markdown",
      "metadata": {
        "id": "TCkbRiO-2jl5"
      },
      "source": [
        "nested if statement"
      ]
    },
    {
      "cell_type": "code",
      "execution_count": 8,
      "metadata": {
        "colab": {
          "base_uri": "https://localhost:8080/"
        },
        "id": "v7gSu40S2Wzb",
        "outputId": "2f3905ec-65c1-497c-e987-5e3da98f0bb4"
      },
      "outputs": [
        {
          "name": "stdout",
          "output_type": "stream",
          "text": [
            "c is the greatest number\n"
          ]
        }
      ],
      "source": [
        "a = 20\n",
        "b = 40\n",
        "c = 60\n",
        "\n",
        "if(a>b):\n",
        "  if(a>c):\n",
        "    print('a is the greatest number')\n",
        "  else:\n",
        "    print('c is the greatest number')\n",
        "\n",
        "else:\n",
        "  if(b>c):\n",
        "    print('b is the greatest number')\n",
        "  else:\n",
        "    print('c is the greatest number')"
      ]
    }
  ],
  "metadata": {
    "colab": {
      "provenance": []
    },
    "kernelspec": {
      "display_name": "Python 3",
      "name": "python3"
    },
    "language_info": {
      "name": "python"
    }
  },
  "nbformat": 4,
  "nbformat_minor": 0
}
