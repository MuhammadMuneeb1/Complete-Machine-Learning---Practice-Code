{
  "nbformat": 4,
  "nbformat_minor": 0,
  "metadata": {
    "colab": {
      "provenance": []
    },
    "kernelspec": {
      "name": "python3",
      "display_name": "Python 3"
    },
    "language_info": {
      "name": "python"
    }
  },
  "cells": [
    {
      "cell_type": "markdown",
      "source": [
        "Function:\n",
        "\n",
        "Function is a block of code that can be re-used in a program."
      ],
      "metadata": {
        "id": "4n_3ce5pZ1J7"
      }
    },
    {
      "cell_type": "markdown",
      "source": [
        "Factorial of a Number: It is a product of all the positive integers less than or equal to the given number."
      ],
      "metadata": {
        "id": "CdrCZu_1Z_ff"
      }
    },
    {
      "cell_type": "markdown",
      "source": [
        "Example:\n",
        "Factorial of 5 = 5! = 5 x 4 x 3 x 2 x 1 = 120"
      ],
      "metadata": {
        "id": "eO8yJPHxaO5-"
      }
    },
    {
      "cell_type": "code",
      "execution_count": 4,
      "metadata": {
        "colab": {
          "base_uri": "https://localhost:8080/"
        },
        "id": "de9_4SFpZsFF",
        "outputId": "a06c1e10-4841-49dc-cdac-8b4c432d1df7"
      },
      "outputs": [
        {
          "output_type": "stream",
          "name": "stdout",
          "text": [
            "Enter a number to find it's factorial: 10\n",
            "The factorial of  10 is 3628800\n"
          ]
        }
      ],
      "source": [
        "number = int(input(\"Enter a number to find it's factorial: \"))\n",
        "factorial = 1\n",
        "\n",
        "if number == 0:\n",
        "    print(\"The factorial of 0 is 1\")\n",
        "\n",
        "else:\n",
        "  for i in range(1, number + 1): # range(1, 6) --> 1,2,3,4,5\n",
        "   factorial = factorial * i # factorial = 1 * 1 = 1, ..., 1 * 5 = 5\n",
        "  print(\"The factorial of \", number, \"is\", factorial)"
      ]
    },
    {
      "cell_type": "markdown",
      "source": [
        "Factorial Function"
      ],
      "metadata": {
        "id": "Q9RY5ixlj70p"
      }
    },
    {
      "cell_type": "code",
      "source": [
        "def factorial_value(num):\n",
        "  factorial = 1\n",
        "  if num == 0:\n",
        "    return factorial\n",
        "  else:\n",
        "    for i in range(1, num+1):\n",
        "      factorial = factorial * i\n",
        "    return factorial"
      ],
      "metadata": {
        "id": "77vBlGuzdz2y"
      },
      "execution_count": 7,
      "outputs": []
    },
    {
      "cell_type": "code",
      "source": [
        "print(factorial_value(5))"
      ],
      "metadata": {
        "colab": {
          "base_uri": "https://localhost:8080/"
        },
        "id": "8c8nrQFZnIsb",
        "outputId": "411ac5ad-f4f0-4232-f876-a6438e030553"
      },
      "execution_count": 8,
      "outputs": [
        {
          "output_type": "stream",
          "name": "stdout",
          "text": [
            "120\n"
          ]
        }
      ]
    },
    {
      "cell_type": "code",
      "source": [
        "print(factorial_value(10))"
      ],
      "metadata": {
        "colab": {
          "base_uri": "https://localhost:8080/"
        },
        "id": "3h6GYNBznbLx",
        "outputId": "1dbf174e-6070-49d6-e66b-87deb79d13d4"
      },
      "execution_count": 9,
      "outputs": [
        {
          "output_type": "stream",
          "name": "stdout",
          "text": [
            "3628800\n"
          ]
        }
      ]
    },
    {
      "cell_type": "code",
      "source": [
        "print(factorial_value(6))"
      ],
      "metadata": {
        "colab": {
          "base_uri": "https://localhost:8080/"
        },
        "id": "yZFmJybUnhDE",
        "outputId": "6d86f5cc-089f-42b6-d791-c3ab07007063"
      },
      "execution_count": 10,
      "outputs": [
        {
          "output_type": "stream",
          "name": "stdout",
          "text": [
            "720\n"
          ]
        }
      ]
    }
  ]
}