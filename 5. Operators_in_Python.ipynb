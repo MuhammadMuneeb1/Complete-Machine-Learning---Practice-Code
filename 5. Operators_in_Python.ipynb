{
  "nbformat": 4,
  "nbformat_minor": 0,
  "metadata": {
    "colab": {
      "provenance": []
    },
    "kernelspec": {
      "name": "python3",
      "display_name": "Python 3"
    },
    "language_info": {
      "name": "python"
    }
  },
  "cells": [
    {
      "cell_type": "markdown",
      "source": [
        "Operators in Python:\n",
        "1. Arithmetic Operators\n",
        "2. Assignment Operators\n",
        "3. Comparison Operators\n",
        "4. Logical Operators\n",
        "5. Identity Operators\n",
        "6. Membership Operators"
      ],
      "metadata": {
        "id": "ORUZjD2_70OD"
      }
    },
    {
      "cell_type": "markdown",
      "source": [
        "1. Arithmetic Operator"
      ],
      "metadata": {
        "id": "pNQxIQsHK81g"
      }
    },
    {
      "cell_type": "code",
      "execution_count": 1,
      "metadata": {
        "colab": {
          "base_uri": "https://localhost:8080/"
        },
        "id": "nh0cczOs7vhQ",
        "outputId": "4af33ec6-3fd5-43e5-fd31-8854f45f00a2"
      },
      "outputs": [
        {
          "output_type": "stream",
          "name": "stdout",
          "text": [
            "sum =  30\n",
            "difference =  10\n",
            "Product =  200\n",
            "Quotient =  2.0\n",
            "Exponent =  10240000000000\n",
            "Remainder =  0\n"
          ]
        }
      ],
      "source": [
        "num_1 = 20\n",
        "num_2 = 10\n",
        "\n",
        "# addition\n",
        "sum = num_1 + num_2\n",
        "print('sum = ', sum)\n",
        "\n",
        "# difference or subtraction\n",
        "diff = num_1 - num_2\n",
        "print('difference = ', diff)\n",
        "\n",
        "# multiplication or product\n",
        "pro = num_1 * num_2\n",
        "print('Product = ', pro)\n",
        "\n",
        "# division or quotient\n",
        "quo = num_1/num_2\n",
        "print('Quotient = ', quo)\n",
        "\n",
        "# exponent\n",
        "exp = num_1 ** num_2 # 20^10\n",
        "print('Exponent = ', exp)\n",
        "\n",
        "# modulus or Remainder\n",
        "mod = num_1 % num_2\n",
        "print('Remainder = ', mod)"
      ]
    },
    {
      "cell_type": "markdown",
      "source": [
        "Assignment Operators\n",
        "\n",
        "1. =\n",
        "2. +=\n",
        "3. -=\n",
        "4. *=\n",
        "5. **=\n",
        "6. /=\n",
        "7. %="
      ],
      "metadata": {
        "id": "j_k-_okMSLLh"
      }
    },
    {
      "cell_type": "code",
      "source": [
        "a = 5\n",
        "print(a)"
      ],
      "metadata": {
        "colab": {
          "base_uri": "https://localhost:8080/"
        },
        "id": "kwaXNrIqRQKO",
        "outputId": "c04722aa-5a69-431e-f0b0-1461b5761a49"
      },
      "execution_count": 2,
      "outputs": [
        {
          "output_type": "stream",
          "name": "stdout",
          "text": [
            "5\n"
          ]
        }
      ]
    },
    {
      "cell_type": "code",
      "source": [
        "a = 5\n",
        "a += 5 # a = a + 5\n",
        "print(a)"
      ],
      "metadata": {
        "colab": {
          "base_uri": "https://localhost:8080/"
        },
        "id": "xMfG3L-5SOpe",
        "outputId": "c8a89672-9e2c-477c-9ce9-07b8e2b26f52"
      },
      "execution_count": 3,
      "outputs": [
        {
          "output_type": "stream",
          "name": "stdout",
          "text": [
            "10\n"
          ]
        }
      ]
    },
    {
      "cell_type": "code",
      "source": [
        "b = 5\n",
        "b -= 5 # b = b - 5\n",
        "print(b)"
      ],
      "metadata": {
        "colab": {
          "base_uri": "https://localhost:8080/"
        },
        "id": "Wu7kA45MSiKA",
        "outputId": "ec905625-1db4-4aea-eb05-ffa0bfd6080c"
      },
      "execution_count": 4,
      "outputs": [
        {
          "output_type": "stream",
          "name": "stdout",
          "text": [
            "0\n"
          ]
        }
      ]
    },
    {
      "cell_type": "markdown",
      "source": [
        "Comparison Operators: It returns a boolean value."
      ],
      "metadata": {
        "id": "Sjb7pDt4TGD7"
      }
    },
    {
      "cell_type": "code",
      "source": [
        "a = 5\n",
        "b = 10\n",
        "\n",
        "print(a == b) # equal to\n",
        "print(a != b) # not equal to\n",
        "print(a > b) # greater than\n",
        "print(a < b) # less than\n",
        "print(a >= b) # greater than or equal to\n",
        "print(a <= b) # less than or equal to"
      ],
      "metadata": {
        "colab": {
          "base_uri": "https://localhost:8080/"
        },
        "id": "ob8feGjjSsTz",
        "outputId": "9cdd6d7c-9db3-4d98-d464-75dc9c6895a5"
      },
      "execution_count": 5,
      "outputs": [
        {
          "output_type": "stream",
          "name": "stdout",
          "text": [
            "False\n",
            "True\n",
            "False\n",
            "True\n",
            "False\n",
            "True\n"
          ]
        }
      ]
    },
    {
      "cell_type": "markdown",
      "source": [
        "Logical Operator: It also returns boolean value.\n",
        "\n",
        "and\n",
        "\n",
        "or\n",
        "\n",
        "not"
      ],
      "metadata": {
        "id": "0feGvgY1T3O_"
      }
    },
    {
      "cell_type": "code",
      "source": [
        "a = 10\n",
        "print(a > 20 and a > 5)\n",
        "print(a > 20 or a > 5)\n",
        "print(not(a > 8 and a > 5))"
      ],
      "metadata": {
        "colab": {
          "base_uri": "https://localhost:8080/"
        },
        "id": "6EJ0h-NeTxBc",
        "outputId": "8af7264e-8585-4b36-ddd0-7a7a7b886000"
      },
      "execution_count": 6,
      "outputs": [
        {
          "output_type": "stream",
          "name": "stdout",
          "text": [
            "False\n",
            "True\n",
            "False\n"
          ]
        }
      ]
    },
    {
      "cell_type": "markdown",
      "source": [
        "Identity Operator: It also returns boolean values.\n",
        "\n",
        "1. is\n",
        "\n",
        "2. is not"
      ],
      "metadata": {
        "id": "e1XRRAV4e7-v"
      }
    },
    {
      "cell_type": "code",
      "source": [
        "x = 5\n",
        "y = 5\n",
        "\n",
        "print(x is y)"
      ],
      "metadata": {
        "colab": {
          "base_uri": "https://localhost:8080/"
        },
        "id": "6QqUIz8dUeyE",
        "outputId": "4171500e-72d5-420a-d163-816b561f49cc"
      },
      "execution_count": 7,
      "outputs": [
        {
          "output_type": "stream",
          "name": "stdout",
          "text": [
            "True\n"
          ]
        }
      ]
    },
    {
      "cell_type": "code",
      "source": [
        "x = 5\n",
        "x = 10\n",
        "print( x is y)"
      ],
      "metadata": {
        "colab": {
          "base_uri": "https://localhost:8080/"
        },
        "id": "35zY0x3hfO-N",
        "outputId": "297ee591-3258-4ae3-faf5-fefe9b697b4b"
      },
      "execution_count": 8,
      "outputs": [
        {
          "output_type": "stream",
          "name": "stdout",
          "text": [
            "False\n"
          ]
        }
      ]
    },
    {
      "cell_type": "code",
      "source": [
        "x = 5\n",
        "y = 5\n",
        "print(x is not y)"
      ],
      "metadata": {
        "colab": {
          "base_uri": "https://localhost:8080/"
        },
        "id": "xQmvM33WfTAt",
        "outputId": "c3d8ef01-d7f3-423f-dfad-8d7b9c52cf06"
      },
      "execution_count": 9,
      "outputs": [
        {
          "output_type": "stream",
          "name": "stdout",
          "text": [
            "False\n"
          ]
        }
      ]
    },
    {
      "cell_type": "code",
      "source": [
        "x = 5\n",
        "y = 10\n",
        "print(x is not y)"
      ],
      "metadata": {
        "colab": {
          "base_uri": "https://localhost:8080/"
        },
        "id": "fdGWVSj8fYsV",
        "outputId": "f19ce915-4e42-446b-df13-3e8ed980929a"
      },
      "execution_count": 10,
      "outputs": [
        {
          "output_type": "stream",
          "name": "stdout",
          "text": [
            "True\n"
          ]
        }
      ]
    },
    {
      "cell_type": "markdown",
      "source": [
        "Membership Operator: It checks if a particular value belongs to a sequence of elements like list. It also returns a boolean value.\n",
        "\n",
        "1. in\n",
        "\n",
        "2. not in"
      ],
      "metadata": {
        "id": "EfVVD8WUffeN"
      }
    },
    {
      "cell_type": "code",
      "source": [
        "a = 5\n",
        "b = 10\n",
        "\n",
        "c = [1, 2, 3, 4, 5]\n",
        "\n",
        "print(a in c)\n",
        "print(b in c)"
      ],
      "metadata": {
        "colab": {
          "base_uri": "https://localhost:8080/"
        },
        "id": "rUNFtHF0fdfn",
        "outputId": "e72c9020-fc97-4f65-b659-6b71ef3146c2"
      },
      "execution_count": 11,
      "outputs": [
        {
          "output_type": "stream",
          "name": "stdout",
          "text": [
            "True\n",
            "False\n"
          ]
        }
      ]
    },
    {
      "cell_type": "code",
      "source": [
        "a = 5\n",
        "b = 10\n",
        "\n",
        "c = [1, 2, 3, 4, 5]\n",
        "\n",
        "print(a not in c)\n",
        "print(b not in c)"
      ],
      "metadata": {
        "colab": {
          "base_uri": "https://localhost:8080/"
        },
        "id": "Dc58xfkBf54m",
        "outputId": "2f3bbc5b-00af-45f3-ee40-bd7a12c9fd9d"
      },
      "execution_count": 12,
      "outputs": [
        {
          "output_type": "stream",
          "name": "stdout",
          "text": [
            "False\n",
            "True\n"
          ]
        }
      ]
    }
  ]
}