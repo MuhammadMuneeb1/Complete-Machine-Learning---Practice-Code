{
  "nbformat": 4,
  "nbformat_minor": 0,
  "metadata": {
    "colab": {
      "provenance": []
    },
    "kernelspec": {
      "name": "python3",
      "display_name": "Python 3"
    },
    "language_info": {
      "name": "python"
    }
  },
  "cells": [
    {
      "cell_type": "markdown",
      "source": [
        "NumPy - Numerical Python\n",
        "\n",
        "Advantages of NumPy Arrays:\n",
        "1. Allows several Mathematical Operations.\n",
        "2. Faster Operations\n",
        "\n",
        "NumPy Arrays are more advance than list and tuples."
      ],
      "metadata": {
        "id": "9WCoeuYRv1Z4"
      }
    },
    {
      "cell_type": "code",
      "execution_count": 2,
      "metadata": {
        "id": "aWZMTAAFoQIy"
      },
      "outputs": [],
      "source": [
        "import numpy as np"
      ]
    },
    {
      "cell_type": "markdown",
      "source": [
        "List vs Numpy - Execution Time Taken"
      ],
      "metadata": {
        "id": "_5nUuPbs1c94"
      }
    },
    {
      "cell_type": "code",
      "source": [
        "from time import process_time"
      ],
      "metadata": {
        "id": "ir7MhRn81HWU"
      },
      "execution_count": 2,
      "outputs": []
    },
    {
      "cell_type": "markdown",
      "source": [
        "Time Taken by a List to Execute."
      ],
      "metadata": {
        "id": "n4SeYfA_1oCa"
      }
    },
    {
      "cell_type": "code",
      "source": [
        "python_list = [i for i in range(10000)]\n",
        "\n",
        "start_time = process_time()\n",
        "\n",
        "python_list = [i+5 for i in python_list]\n",
        "\n",
        "end_time = process_time()\n",
        "\n",
        "print(end_time - start_time)"
      ],
      "metadata": {
        "colab": {
          "base_uri": "https://localhost:8080/"
        },
        "id": "v53SA3xt1mQY",
        "outputId": "5e717a17-a7b5-482e-ddf2-84e68887da73"
      },
      "execution_count": 3,
      "outputs": [
        {
          "output_type": "stream",
          "name": "stdout",
          "text": [
            "0.0014676100000006187\n"
          ]
        }
      ]
    },
    {
      "cell_type": "code",
      "source": [
        "np_array = np.array([i for i in range(10000)])\n",
        "\n",
        "start_time = process_time()\n",
        "\n",
        "np_array += 5\n",
        "\n",
        "end_time = process_time()\n",
        "\n",
        "print(end_time - start_time)"
      ],
      "metadata": {
        "colab": {
          "base_uri": "https://localhost:8080/"
        },
        "id": "3ZYkDniM2OUq",
        "outputId": "e90ea99d-734e-4a1b-e9b5-cc259d889ecc"
      },
      "execution_count": 4,
      "outputs": [
        {
          "output_type": "stream",
          "name": "stdout",
          "text": [
            "0.001258092000000488\n"
          ]
        }
      ]
    },
    {
      "cell_type": "markdown",
      "source": [
        "NumPy Arrays"
      ],
      "metadata": {
        "id": "CyCsDxm13EiY"
      }
    },
    {
      "cell_type": "code",
      "source": [
        "# list\n",
        "list1 = [1,2,3,4,5]\n",
        "print(list1)\n",
        "type(list1)"
      ],
      "metadata": {
        "colab": {
          "base_uri": "https://localhost:8080/"
        },
        "id": "FQl9-r_P2w2r",
        "outputId": "def79484-d47c-42d5-cb55-c7b2973da94a"
      },
      "execution_count": 5,
      "outputs": [
        {
          "output_type": "stream",
          "name": "stdout",
          "text": [
            "[1, 2, 3, 4, 5]\n"
          ]
        },
        {
          "output_type": "execute_result",
          "data": {
            "text/plain": [
              "list"
            ]
          },
          "metadata": {},
          "execution_count": 5
        }
      ]
    },
    {
      "cell_type": "code",
      "source": [
        "#NumPy Array\n",
        "np_array = np.array([1,2,3,4,5])\n",
        "print(np_array)\n",
        "type(np_array)"
      ],
      "metadata": {
        "colab": {
          "base_uri": "https://localhost:8080/"
        },
        "id": "pJLDdJiK3R5a",
        "outputId": "9b106de9-de3f-42e2-906f-3358c568d238"
      },
      "execution_count": 6,
      "outputs": [
        {
          "output_type": "stream",
          "name": "stdout",
          "text": [
            "[1 2 3 4 5]\n"
          ]
        },
        {
          "output_type": "execute_result",
          "data": {
            "text/plain": [
              "numpy.ndarray"
            ]
          },
          "metadata": {},
          "execution_count": 6
        }
      ]
    },
    {
      "cell_type": "code",
      "source": [
        "# creating a 1 dimensionl array\n",
        "a = np.array([1,2,3,4])\n",
        "print(a)"
      ],
      "metadata": {
        "colab": {
          "base_uri": "https://localhost:8080/"
        },
        "id": "aAkbNU6E3jQV",
        "outputId": "7cc28156-06ee-4fae-95b9-5d8e54285ac7"
      },
      "execution_count": 7,
      "outputs": [
        {
          "output_type": "stream",
          "name": "stdout",
          "text": [
            "[1 2 3 4]\n"
          ]
        }
      ]
    },
    {
      "cell_type": "code",
      "source": [
        "a.shape"
      ],
      "metadata": {
        "colab": {
          "base_uri": "https://localhost:8080/"
        },
        "id": "W224Oc6x31ji",
        "outputId": "011eb5f0-3946-4dbc-f9b6-f590de1d04b7"
      },
      "execution_count": 8,
      "outputs": [
        {
          "output_type": "execute_result",
          "data": {
            "text/plain": [
              "(4,)"
            ]
          },
          "metadata": {},
          "execution_count": 8
        }
      ]
    },
    {
      "cell_type": "code",
      "source": [
        "b = np.array([(1,2,3,4), (5,6,7,8)])\n",
        "print(b)"
      ],
      "metadata": {
        "colab": {
          "base_uri": "https://localhost:8080/"
        },
        "id": "FxA3IG-b33kN",
        "outputId": "414ee34f-84cd-47a5-9bb5-d3a1ec900c78"
      },
      "execution_count": 9,
      "outputs": [
        {
          "output_type": "stream",
          "name": "stdout",
          "text": [
            "[[1 2 3 4]\n",
            " [5 6 7 8]]\n"
          ]
        }
      ]
    },
    {
      "cell_type": "code",
      "source": [
        "b.shape"
      ],
      "metadata": {
        "colab": {
          "base_uri": "https://localhost:8080/"
        },
        "id": "jB9VNSMQ4A6W",
        "outputId": "27140686-28a3-4e7f-cc15-6a74d4a2ca42"
      },
      "execution_count": 10,
      "outputs": [
        {
          "output_type": "execute_result",
          "data": {
            "text/plain": [
              "(2, 4)"
            ]
          },
          "metadata": {},
          "execution_count": 10
        }
      ]
    },
    {
      "cell_type": "code",
      "source": [
        "c = np.array([(1,2,3,4), (5,6,7,8)], dtype=float)\n",
        "print(c)\n",
        "type(c)"
      ],
      "metadata": {
        "colab": {
          "base_uri": "https://localhost:8080/"
        },
        "id": "jkf7pPf64D9M",
        "outputId": "9451ec81-0f6b-4f03-c34d-ea79864081a0"
      },
      "execution_count": 13,
      "outputs": [
        {
          "output_type": "stream",
          "name": "stdout",
          "text": [
            "[[1. 2. 3. 4.]\n",
            " [5. 6. 7. 8.]]\n"
          ]
        },
        {
          "output_type": "execute_result",
          "data": {
            "text/plain": [
              "numpy.ndarray"
            ]
          },
          "metadata": {},
          "execution_count": 13
        }
      ]
    },
    {
      "cell_type": "markdown",
      "source": [
        "Initial Placeholders in NumPy Arrays."
      ],
      "metadata": {
        "id": "IT-0m9SW478E"
      }
    },
    {
      "cell_type": "code",
      "source": [
        "# create a numpy array of Zeros\n",
        "x = np.zeros((4,5))\n",
        "print(x)\n",
        "type(x)"
      ],
      "metadata": {
        "colab": {
          "base_uri": "https://localhost:8080/"
        },
        "id": "ZQdJN71U4vqf",
        "outputId": "71b360b8-177e-460c-f512-3d6031b5e235"
      },
      "execution_count": 14,
      "outputs": [
        {
          "output_type": "stream",
          "name": "stdout",
          "text": [
            "[[0. 0. 0. 0. 0.]\n",
            " [0. 0. 0. 0. 0.]\n",
            " [0. 0. 0. 0. 0.]\n",
            " [0. 0. 0. 0. 0.]]\n"
          ]
        },
        {
          "output_type": "execute_result",
          "data": {
            "text/plain": [
              "numpy.ndarray"
            ]
          },
          "metadata": {},
          "execution_count": 14
        }
      ]
    },
    {
      "cell_type": "code",
      "source": [
        "# create a numpy array of ones\n",
        "y = np.ones((3,3))\n",
        "print(y)"
      ],
      "metadata": {
        "colab": {
          "base_uri": "https://localhost:8080/"
        },
        "id": "w9ExSY2U5Qnk",
        "outputId": "1f11a750-c030-429d-ee38-631fd10b2715"
      },
      "execution_count": 15,
      "outputs": [
        {
          "output_type": "stream",
          "name": "stdout",
          "text": [
            "[[1. 1. 1.]\n",
            " [1. 1. 1.]\n",
            " [1. 1. 1.]]\n"
          ]
        }
      ]
    },
    {
      "cell_type": "code",
      "source": [
        "# create an NumPy array of a particular value\n",
        "z = np.full((5, 4), 5)\n",
        "print(z)"
      ],
      "metadata": {
        "colab": {
          "base_uri": "https://localhost:8080/"
        },
        "id": "ObuuyVtF5rKG",
        "outputId": "6c22532b-720b-4c7d-8faa-7f217ddb84dd"
      },
      "execution_count": 16,
      "outputs": [
        {
          "output_type": "stream",
          "name": "stdout",
          "text": [
            "[[5 5 5 5]\n",
            " [5 5 5 5]\n",
            " [5 5 5 5]\n",
            " [5 5 5 5]\n",
            " [5 5 5 5]]\n"
          ]
        }
      ]
    },
    {
      "cell_type": "code",
      "source": [
        "# create an identity matrix\n",
        "a = np.eye(5)\n",
        "print(a)"
      ],
      "metadata": {
        "colab": {
          "base_uri": "https://localhost:8080/"
        },
        "id": "9VyGnxT553Lg",
        "outputId": "d3cc8bc7-17e1-4bfb-9f43-bf102a48397c"
      },
      "execution_count": 18,
      "outputs": [
        {
          "output_type": "stream",
          "name": "stdout",
          "text": [
            "[[1. 0. 0. 0. 0.]\n",
            " [0. 1. 0. 0. 0.]\n",
            " [0. 0. 1. 0. 0.]\n",
            " [0. 0. 0. 1. 0.]\n",
            " [0. 0. 0. 0. 1.]]\n"
          ]
        }
      ]
    },
    {
      "cell_type": "code",
      "source": [
        "# create a NumPy Array with Random values\n",
        "b = np.random.random((3, 4))\n",
        "print(b)"
      ],
      "metadata": {
        "colab": {
          "base_uri": "https://localhost:8080/"
        },
        "id": "V-fxvIxC6nmb",
        "outputId": "40ce8096-2cbe-4cef-ca04-5d68e3cba180"
      },
      "execution_count": 21,
      "outputs": [
        {
          "output_type": "stream",
          "name": "stdout",
          "text": [
            "[[0.89360329 0.63796387 0.70822161 0.18273424]\n",
            " [0.30409937 0.57492611 0.96754841 0.6451615 ]\n",
            " [0.28808774 0.53168806 0.10556346 0.41979627]]\n"
          ]
        }
      ]
    },
    {
      "cell_type": "code",
      "source": [
        "# Create a random integer values NumPy Arrays within a specific range\n",
        "c = np.random.randint(10, 100, (3, 5))\n",
        "print(c)"
      ],
      "metadata": {
        "colab": {
          "base_uri": "https://localhost:8080/"
        },
        "id": "px0QbdA167Ed",
        "outputId": "991aaf7c-dbd5-42b7-d63e-7b915c65808b"
      },
      "execution_count": 23,
      "outputs": [
        {
          "output_type": "stream",
          "name": "stdout",
          "text": [
            "[[26 91 32 31 60]\n",
            " [56 78 87 53 75]\n",
            " [96 37 16 82 86]]\n"
          ]
        }
      ]
    },
    {
      "cell_type": "code",
      "source": [
        "# create an NumPy array of evenly spaced values --> specifying the number of values required\n",
        "d = np.linspace(10, 30, 6)\n",
        "print(d)"
      ],
      "metadata": {
        "colab": {
          "base_uri": "https://localhost:8080/"
        },
        "id": "v9Lkt0xe7Ur5",
        "outputId": "2869fe63-23e7-4c7c-bb57-96d45d9471c0"
      },
      "execution_count": 26,
      "outputs": [
        {
          "output_type": "stream",
          "name": "stdout",
          "text": [
            "[10. 14. 18. 22. 26. 30.]\n"
          ]
        }
      ]
    },
    {
      "cell_type": "code",
      "source": [
        "# array of evenly spaced values --> specifying the step\n",
        "e = np.arange(10, 30, 5) # 5 = step-value\n",
        "print(e)"
      ],
      "metadata": {
        "colab": {
          "base_uri": "https://localhost:8080/"
        },
        "id": "OBAL9Y4U7mBn",
        "outputId": "1c088e03-55a1-471d-a5f8-b6cae9ecba65"
      },
      "execution_count": 27,
      "outputs": [
        {
          "output_type": "stream",
          "name": "stdout",
          "text": [
            "[10 15 20 25]\n"
          ]
        }
      ]
    },
    {
      "cell_type": "code",
      "source": [
        "# convert a list to a NumPy Array\n",
        "list2 = [10, 20, 30, 40, 50]\n",
        "np_array = np.asarray(list2)\n",
        "print(np_array)\n",
        "type(np_array)"
      ],
      "metadata": {
        "colab": {
          "base_uri": "https://localhost:8080/"
        },
        "id": "Wf4c1n9Z8AzK",
        "outputId": "8a9cb691-d562-4f73-822b-17c4db3baa3a"
      },
      "execution_count": 29,
      "outputs": [
        {
          "output_type": "stream",
          "name": "stdout",
          "text": [
            "[10 20 30 40 50]\n"
          ]
        },
        {
          "output_type": "execute_result",
          "data": {
            "text/plain": [
              "numpy.ndarray"
            ]
          },
          "metadata": {},
          "execution_count": 29
        }
      ]
    },
    {
      "cell_type": "markdown",
      "source": [
        "Analysis a NumPy Array"
      ],
      "metadata": {
        "id": "YhN1tyvOcSO1"
      }
    },
    {
      "cell_type": "code",
      "source": [
        "c = np.random.randint(10, 90, (5, 5))\n",
        "print(c)"
      ],
      "metadata": {
        "colab": {
          "base_uri": "https://localhost:8080/"
        },
        "id": "TMGW9M0E8jYj",
        "outputId": "382e0722-c456-4788-9c3c-d464be8a098b"
      },
      "execution_count": 3,
      "outputs": [
        {
          "output_type": "stream",
          "name": "stdout",
          "text": [
            "[[35 51 15 41 25]\n",
            " [64 41 83 89 63]\n",
            " [80 12 47 15 54]\n",
            " [60 46 55 49 49]\n",
            " [69 12 47 26 43]]\n"
          ]
        }
      ]
    },
    {
      "cell_type": "code",
      "source": [
        "# array dimension\n",
        "print(c.shape) # shape = rows and columns"
      ],
      "metadata": {
        "colab": {
          "base_uri": "https://localhost:8080/"
        },
        "id": "90dnQwoYcbmb",
        "outputId": "cb6c7c06-1ba7-49ae-dea2-fb9467ba735c"
      },
      "execution_count": 4,
      "outputs": [
        {
          "output_type": "stream",
          "name": "stdout",
          "text": [
            "(5, 5)\n"
          ]
        }
      ]
    },
    {
      "cell_type": "code",
      "source": [
        "# number of dimension\n",
        "print(c.ndim)"
      ],
      "metadata": {
        "colab": {
          "base_uri": "https://localhost:8080/"
        },
        "id": "RgRfbadNcvS-",
        "outputId": "ab7ed70a-511d-477e-fbfc-8de986657adc"
      },
      "execution_count": 5,
      "outputs": [
        {
          "output_type": "stream",
          "name": "stdout",
          "text": [
            "2\n"
          ]
        }
      ]
    },
    {
      "cell_type": "code",
      "source": [
        "# Checking number of element in an NumPy Array\n",
        "print(c.size)"
      ],
      "metadata": {
        "colab": {
          "base_uri": "https://localhost:8080/"
        },
        "id": "aVp3WgSuc3E5",
        "outputId": "f898fa34-c19e-4ff8-f402-33521792ccfb"
      },
      "execution_count": 6,
      "outputs": [
        {
          "output_type": "stream",
          "name": "stdout",
          "text": [
            "25\n"
          ]
        }
      ]
    },
    {
      "cell_type": "code",
      "source": [
        "# Checking the data type of values in a NumPy Array\n",
        "print(c.dtype)"
      ],
      "metadata": {
        "colab": {
          "base_uri": "https://localhost:8080/"
        },
        "id": "CX3-vqj8dBh6",
        "outputId": "3316f807-8d9c-40f8-e09b-06b51b031b48"
      },
      "execution_count": 7,
      "outputs": [
        {
          "output_type": "stream",
          "name": "stdout",
          "text": [
            "int64\n"
          ]
        }
      ]
    },
    {
      "cell_type": "markdown",
      "source": [
        "Mathematical operations performed on NumPy Array"
      ],
      "metadata": {
        "id": "A-A1ZDIPdVMZ"
      }
    },
    {
      "cell_type": "code",
      "source": [
        "list1 = [1,2,3,4,5]\n",
        "list2 = [6,7,8,9,10]\n",
        "\n",
        "print(list1 + list2) # concatenate or joins two list"
      ],
      "metadata": {
        "colab": {
          "base_uri": "https://localhost:8080/"
        },
        "id": "LxD4wYvPdKc1",
        "outputId": "dad98aaf-63d8-414f-ee94-5d912eed9f27"
      },
      "execution_count": 8,
      "outputs": [
        {
          "output_type": "stream",
          "name": "stdout",
          "text": [
            "[1, 2, 3, 4, 5, 6, 7, 8, 9, 10]\n"
          ]
        }
      ]
    },
    {
      "cell_type": "code",
      "source": [
        "a = np.random.randint(0, 10, (3, 3))\n",
        "b = np.random.randint(10, 20, (3, 3))"
      ],
      "metadata": {
        "id": "9aLppykcdiG4"
      },
      "execution_count": 10,
      "outputs": []
    },
    {
      "cell_type": "code",
      "source": [
        "print(a)\n",
        "print(b)"
      ],
      "metadata": {
        "colab": {
          "base_uri": "https://localhost:8080/"
        },
        "id": "8Z1uI1iid9LB",
        "outputId": "413aa88f-6d17-446d-f196-e41021ad7c33"
      },
      "execution_count": 11,
      "outputs": [
        {
          "output_type": "stream",
          "name": "stdout",
          "text": [
            "[[2 9 9]\n",
            " [5 4 5]\n",
            " [8 1 7]]\n",
            "[[13 17 18]\n",
            " [13 15 14]\n",
            " [12 12 11]]\n"
          ]
        }
      ]
    },
    {
      "cell_type": "code",
      "source": [
        "print(a+b)"
      ],
      "metadata": {
        "colab": {
          "base_uri": "https://localhost:8080/"
        },
        "id": "tbCOSjdZeC2S",
        "outputId": "0f7a2a21-4dc0-4a9f-d7b3-6657161be3fc"
      },
      "execution_count": 12,
      "outputs": [
        {
          "output_type": "stream",
          "name": "stdout",
          "text": [
            "[[15 26 27]\n",
            " [18 19 19]\n",
            " [20 13 18]]\n"
          ]
        }
      ]
    },
    {
      "cell_type": "code",
      "source": [
        "print(a-b)"
      ],
      "metadata": {
        "colab": {
          "base_uri": "https://localhost:8080/"
        },
        "id": "dW3dr2MneHHm",
        "outputId": "5d5793f0-d790-4005-f7e4-39dba3f2f7f4"
      },
      "execution_count": 13,
      "outputs": [
        {
          "output_type": "stream",
          "name": "stdout",
          "text": [
            "[[-11  -8  -9]\n",
            " [ -8 -11  -9]\n",
            " [ -4 -11  -4]]\n"
          ]
        }
      ]
    },
    {
      "cell_type": "code",
      "source": [
        "print(a*b)"
      ],
      "metadata": {
        "colab": {
          "base_uri": "https://localhost:8080/"
        },
        "id": "th6KijD9ePdz",
        "outputId": "baed95a8-4eb1-42d5-fd9d-276b240771b1"
      },
      "execution_count": 14,
      "outputs": [
        {
          "output_type": "stream",
          "name": "stdout",
          "text": [
            "[[ 26 153 162]\n",
            " [ 65  60  70]\n",
            " [ 96  12  77]]\n"
          ]
        }
      ]
    },
    {
      "cell_type": "code",
      "source": [
        "print(a/b)"
      ],
      "metadata": {
        "colab": {
          "base_uri": "https://localhost:8080/"
        },
        "id": "HBUyIzBpeRYI",
        "outputId": "dece6b04-a1a7-4110-dc26-6f1a5ceff495"
      },
      "execution_count": 15,
      "outputs": [
        {
          "output_type": "stream",
          "name": "stdout",
          "text": [
            "[[0.15384615 0.52941176 0.5       ]\n",
            " [0.38461538 0.26666667 0.35714286]\n",
            " [0.66666667 0.08333333 0.63636364]]\n"
          ]
        }
      ]
    },
    {
      "cell_type": "code",
      "source": [
        "a = np.random.randint(0, 10, (3, 3))\n",
        "b = np.random.randint(10, 20, (3, 3))"
      ],
      "metadata": {
        "id": "2n9eCeVCeiqu"
      },
      "execution_count": 17,
      "outputs": []
    },
    {
      "cell_type": "code",
      "source": [
        "print(np.add(a, b))"
      ],
      "metadata": {
        "colab": {
          "base_uri": "https://localhost:8080/"
        },
        "id": "IEm-V3-ueTyN",
        "outputId": "4262b756-351e-4167-cf80-218b3bcf518c"
      },
      "execution_count": 18,
      "outputs": [
        {
          "output_type": "stream",
          "name": "stdout",
          "text": [
            "[[22 22 12]\n",
            " [11 14 23]\n",
            " [23 26 26]]\n"
          ]
        }
      ]
    },
    {
      "cell_type": "code",
      "source": [
        "print(a)\n",
        "print(b)"
      ],
      "metadata": {
        "colab": {
          "base_uri": "https://localhost:8080/"
        },
        "id": "e4-FnMPPeaT-",
        "outputId": "2780c8d3-f124-41a3-8111-ad6e6aa51a94"
      },
      "execution_count": 19,
      "outputs": [
        {
          "output_type": "stream",
          "name": "stdout",
          "text": [
            "[[7 3 0]\n",
            " [1 2 5]\n",
            " [4 9 7]]\n",
            "[[15 19 12]\n",
            " [10 12 18]\n",
            " [19 17 19]]\n"
          ]
        }
      ]
    },
    {
      "cell_type": "code",
      "source": [
        "print(np.add(a, b))\n",
        "print(np.subtract(a, b))\n",
        "print(np.multiply(a, b))\n",
        "print(np.divide(a, b))"
      ],
      "metadata": {
        "colab": {
          "base_uri": "https://localhost:8080/"
        },
        "id": "XTWregsVeoV2",
        "outputId": "2e852ecb-3b14-40c9-b88c-124ba2108ba2"
      },
      "execution_count": 20,
      "outputs": [
        {
          "output_type": "stream",
          "name": "stdout",
          "text": [
            "[[22 22 12]\n",
            " [11 14 23]\n",
            " [23 26 26]]\n",
            "[[ -8 -16 -12]\n",
            " [ -9 -10 -13]\n",
            " [-15  -8 -12]]\n",
            "[[105  57   0]\n",
            " [ 10  24  90]\n",
            " [ 76 153 133]]\n",
            "[[0.46666667 0.15789474 0.        ]\n",
            " [0.1        0.16666667 0.27777778]\n",
            " [0.21052632 0.52941176 0.36842105]]\n"
          ]
        }
      ]
    },
    {
      "cell_type": "markdown",
      "source": [
        "Array Manipulation"
      ],
      "metadata": {
        "id": "a2Id5b7ee6Co"
      }
    },
    {
      "cell_type": "code",
      "source": [
        "array = np.random.randint(0, 10, (2, 3))\n",
        "print(array)\n",
        "print(array.shape)"
      ],
      "metadata": {
        "colab": {
          "base_uri": "https://localhost:8080/"
        },
        "id": "gEU8QtUJe2m4",
        "outputId": "21012438-85e3-4dd4-b1af-b7bb3a95e1d5"
      },
      "execution_count": 21,
      "outputs": [
        {
          "output_type": "stream",
          "name": "stdout",
          "text": [
            "[[1 3 4]\n",
            " [0 6 4]]\n",
            "(2, 3)\n"
          ]
        }
      ]
    },
    {
      "cell_type": "code",
      "source": [
        "# create a transpose\n",
        "trans = np.transpose(array)\n",
        "print(trans)\n",
        "print(trans.shape)"
      ],
      "metadata": {
        "colab": {
          "base_uri": "https://localhost:8080/"
        },
        "id": "g0lk6kiifD2z",
        "outputId": "ed30bcab-16aa-4dc2-847d-80f583f57b19"
      },
      "execution_count": 22,
      "outputs": [
        {
          "output_type": "stream",
          "name": "stdout",
          "text": [
            "[[1 0]\n",
            " [3 6]\n",
            " [4 4]]\n",
            "(3, 2)\n"
          ]
        }
      ]
    },
    {
      "cell_type": "code",
      "source": [
        "array = np.random.randint(0, 10, (2, 3))\n",
        "print(array)\n",
        "print(array.shape)"
      ],
      "metadata": {
        "colab": {
          "base_uri": "https://localhost:8080/"
        },
        "id": "S0ixa3_NfL8x",
        "outputId": "4720cf1f-3f00-4f3d-90e1-28d276cf6f99"
      },
      "execution_count": 23,
      "outputs": [
        {
          "output_type": "stream",
          "name": "stdout",
          "text": [
            "[[3 3 7]\n",
            " [0 9 1]]\n",
            "(2, 3)\n"
          ]
        }
      ]
    },
    {
      "cell_type": "code",
      "source": [
        "trans2 = array.T\n",
        "print(trans2)\n",
        "print(trans2.shape)"
      ],
      "metadata": {
        "colab": {
          "base_uri": "https://localhost:8080/"
        },
        "id": "CdDROO4jfZzq",
        "outputId": "31053393-80a7-45b7-b02b-93806879278f"
      },
      "execution_count": 24,
      "outputs": [
        {
          "output_type": "stream",
          "name": "stdout",
          "text": [
            "[[3 0]\n",
            " [3 9]\n",
            " [7 1]]\n",
            "(3, 2)\n"
          ]
        }
      ]
    },
    {
      "cell_type": "code",
      "source": [
        "# Reshaping a NumPy Array\n",
        "a = np.random.randint(0, 10, (2,3))\n",
        "print(a)\n",
        "print(a.shape)"
      ],
      "metadata": {
        "colab": {
          "base_uri": "https://localhost:8080/"
        },
        "id": "M1zk9RFZfiRq",
        "outputId": "ae2e8e1b-4dea-4b57-ddaa-2ebd2daac59b"
      },
      "execution_count": 25,
      "outputs": [
        {
          "output_type": "stream",
          "name": "stdout",
          "text": [
            "[[0 9 0]\n",
            " [8 4 1]]\n",
            "(2, 3)\n"
          ]
        }
      ]
    },
    {
      "cell_type": "code",
      "source": [
        "b = a.reshape(3, 2)\n",
        "print(b)\n",
        "print(b.shape)"
      ],
      "metadata": {
        "colab": {
          "base_uri": "https://localhost:8080/"
        },
        "id": "QARA3bqCfznG",
        "outputId": "fd2f8a74-05b4-4894-a083-30c9e9d8c060"
      },
      "execution_count": 26,
      "outputs": [
        {
          "output_type": "stream",
          "name": "stdout",
          "text": [
            "[[0 9]\n",
            " [0 8]\n",
            " [4 1]]\n",
            "(3, 2)\n"
          ]
        }
      ]
    }
  ]
}