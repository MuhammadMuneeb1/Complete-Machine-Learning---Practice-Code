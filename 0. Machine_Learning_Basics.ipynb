{
  "cells": [
    {
      "cell_type": "markdown",
      "metadata": {
        "id": "ReTCuQzbI8B9"
      },
      "source": [
        "**Artificial Intelligence(Ai) vs Machine Learning(ML) vs Deep Learning(DL)**:\n",
        "\n",
        "\n",
        "\n",
        "*   Machine Learning(ML) is a Subset of Artificial Intelligence(Ai).\n",
        "\n",
        "*   Deep Learning(DL) is a Subset of Machine Learning(ML).\n",
        "\n"
      ]
    },
    {
      "cell_type": "markdown",
      "metadata": {
        "id": "bB09MqyIJhEv"
      },
      "source": [
        "What is Artificial Intelligence?\n",
        "\n",
        "**Artificial Intelligence** is a branch of Computer Science that is concerned with Building \"Smart & Intelligent\" Machines.\n",
        "\n",
        "* Non-Intelligent Machine: Bike and Watch.\n",
        "* Intelligent Machines: Google Assistant and Tesla Cars."
      ]
    },
    {
      "cell_type": "markdown",
      "metadata": {
        "id": "TuibXf_nKFC7"
      },
      "source": [
        "**Machine Learning**: is a Technique to Implement AI that can learn from the data by themselves without being explicitly programmed."
      ]
    },
    {
      "cell_type": "markdown",
      "metadata": {
        "id": "oaZALXNIMNij"
      },
      "source": [
        "**Deep Learning**: is a subfield of Machine Learning that uses **Artificial Neural Networks** to learn from the data.\n",
        "\n",
        "* **Artificial Neural Networks** are model from **Human Brain**, **Neurons** present in Human Brain.\n",
        "\n",
        "There are many different layers present in an Artificial Neural Networks:\n",
        "\n",
        "* Input Layer\n",
        "* Several Hidden Layers\n",
        "* Output Layer"
      ]
    },
    {
      "cell_type": "markdown",
      "metadata": {
        "id": "y8OJx4i_NqLl"
      },
      "source": [
        "**Types of Machine Learning:**\n",
        "\n",
        "* Supervised Learning\n",
        "* Unsupervised Learning\n",
        "* Reinforcement Learning"
      ]
    },
    {
      "cell_type": "markdown",
      "metadata": {
        "id": "S4a33hy_Pevl"
      },
      "source": [
        "**Supervised Learning:**\n",
        "In Supervised Learning, Machine Learning Algorithm learns from Labelled Data."
      ]
    },
    {
      "cell_type": "markdown",
      "metadata": {
        "id": "SHxBvllVPrSF"
      },
      "source": [
        "**Unsupervised Learning:**\n",
        "In Unsupervised Learning, Machine Learning Algorithm Learns from Unlabelled Data."
      ]
    },
    {
      "cell_type": "markdown",
      "metadata": {
        "id": "A6PUhRh1QFoD"
      },
      "source": [
        "**Reinforcement Learning:**\n",
        "Reinforcement Learning is an area of Machine Learning concerned with how intelligent agents take actions in an enviornment to maximize its rewards.\n",
        "\n",
        "There are 4 main Aspects of Reinforcement Learning in Machine Learning:\n",
        "1. Enviornment\n",
        "2. Agent\n",
        "3. Action\n",
        "4. Reward"
      ]
    },
    {
      "cell_type": "markdown",
      "metadata": {
        "id": "JlEPHPGLR4jG"
      },
      "source": [
        "**Types of Supervised Learning:**\n",
        "\n",
        "\n",
        "*   Classification\n",
        "*   Regression\n",
        "\n"
      ]
    },
    {
      "cell_type": "markdown",
      "metadata": {
        "id": "GozcFds9TJP6"
      },
      "source": [
        "**Classification:** is about predicting a class or discrete values.\n",
        "Eg: Male or Female; True or False"
      ]
    },
    {
      "cell_type": "markdown",
      "metadata": {
        "id": "zUUZ7uymTdV6"
      },
      "source": [
        "**Regression:** is about predicting a quantity or continuous values. Eg: Salary; age; Price."
      ]
    },
    {
      "cell_type": "markdown",
      "metadata": {
        "id": "on2q0S1UTqfV"
      },
      "source": [
        "**Algorithms** use for Classification and Regression:\n",
        "\n",
        "1. Classification:\n",
        "* Decision Tree Classification\n",
        "* Random Forest Classification\n",
        "* K-Nearest Neighbor\n",
        "\n",
        "2. Regression:\n",
        "* Logistic Regression\n",
        "* Polynomial Regression\n",
        "* Support Vector Machines"
      ]
    },
    {
      "cell_type": "markdown",
      "metadata": {
        "id": "bY1kTJ-sUpgn"
      },
      "source": [
        "**Types of Unsupervised Learning:**\n",
        "* Clustering\n",
        "* Association"
      ]
    },
    {
      "cell_type": "markdown",
      "metadata": {
        "id": "bIjlc_mUVc-B"
      },
      "source": [
        "**Clustering:**\n",
        "Clustering is an Unsupervised Task which involves grouping the similar data points."
      ]
    },
    {
      "cell_type": "markdown",
      "metadata": {
        "id": "E18L96UHVq80"
      },
      "source": [
        "**Association:**\n",
        "Association is an Unsupervised Task that is used to find important relationship between data points."
      ]
    },
    {
      "cell_type": "markdown",
      "metadata": {
        "id": "_QASQFEDV6JG"
      },
      "source": [
        "**Unsupervised Learning Algorithms:**\n",
        "1. K-Mean Clustering\n",
        "2. Hierarchical Clustering\n",
        "3. Principal Component Analysis(PCA)\n",
        "4. Apriori\n",
        "5. Eclat"
      ]
    },
    {
      "cell_type": "markdown",
      "metadata": {
        "id": "tnOyGJFiW9M3"
      },
      "source": [
        "**Machine Learning vs Deep Learning:**\n",
        "The main advantage of Deep Learning over Machine Learning are **Feature Extraction**, because **Artificial Neural Networks** are so powerful than any other Machine Learning Algorithm that they can determine these Features Automatically by themselves, we don't need to extract these features, Manually."
      ]
    },
    {
      "cell_type": "markdown",
      "metadata": {
        "id": "oTOdDuLiYxL7"
      },
      "source": [
        "**Deep Learning Applications:**\n",
        "* Healthcare\n",
        "* Autonomous Car\n",
        "* Computer Vision\n",
        "* Natural Language Processing"
      ]
    }
  ],
  "metadata": {
    "colab": {
      "provenance": []
    },
    "kernelspec": {
      "display_name": "Python 3",
      "name": "python3"
    },
    "language_info": {
      "name": "python"
    }
  },
  "nbformat": 4,
  "nbformat_minor": 0
}
