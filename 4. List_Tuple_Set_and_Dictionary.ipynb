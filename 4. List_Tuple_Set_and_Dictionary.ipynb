{
  "cells": [
    {
      "cell_type": "markdown",
      "metadata": {
        "id": "0TpngFEE3Vni"
      },
      "source": [
        "Types of Objects in Python:\n",
        "\n",
        "\n",
        "1.   Immutable Objects\n",
        "2.   Mutable Objects\n",
        "\n",
        "Immutable Objects:\n",
        "\n",
        "\n",
        "1.   int\n",
        "2.   float\n",
        "3.   string\n",
        "4.   bool\n",
        "5.   tuple\n",
        "\n",
        "Mutable Objects:\n",
        "1. List\n",
        "2. Set\n",
        "3. Dictionary\n",
        "\n",
        "\n",
        "\n"
      ]
    },
    {
      "cell_type": "markdown",
      "metadata": {
        "id": "lIs6S8Op373I"
      },
      "source": [
        "List"
      ]
    },
    {
      "cell_type": "code",
      "execution_count": null,
      "metadata": {
        "id": "XRf_w2Qu30C9"
      },
      "outputs": [],
      "source": [
        "# list should be included in the squared brackets"
      ]
    },
    {
      "cell_type": "code",
      "execution_count": null,
      "metadata": {
        "colab": {
          "base_uri": "https://localhost:8080/"
        },
        "id": "l9HIYPDI4BHH",
        "outputId": "f7614705-4ce0-4650-d938-55f472e0fb64"
      },
      "outputs": [
        {
          "name": "stdout",
          "output_type": "stream",
          "text": [
            "[1, 2, 3, 4, 5]\n"
          ]
        },
        {
          "data": {
            "text/plain": [
              "list"
            ]
          },
          "execution_count": 4,
          "metadata": {},
          "output_type": "execute_result"
        }
      ],
      "source": [
        "my_list = [1, 2, 3, 4, 5]\n",
        "print(my_list)\n",
        "type(my_list)"
      ]
    },
    {
      "cell_type": "code",
      "execution_count": null,
      "metadata": {
        "colab": {
          "base_uri": "https://localhost:8080/"
        },
        "id": "ZD8wR-r24qWU",
        "outputId": "ac6974cd-1b38-4509-9aa3-51bb7f77f152"
      },
      "outputs": [
        {
          "name": "stdout",
          "output_type": "stream",
          "text": [
            "[2, 3, 3.4, 'English', True]\n"
          ]
        },
        {
          "data": {
            "text/plain": [
              "list"
            ]
          },
          "execution_count": 5,
          "metadata": {},
          "output_type": "execute_result"
        }
      ],
      "source": [
        "# list can have multiple data types\n",
        "my_list = [2, 3, 3.4, 'English', True]\n",
        "print(my_list)\n",
        "type(my_list)"
      ]
    },
    {
      "cell_type": "markdown",
      "metadata": {
        "id": "IdtS6g4-5Z_I"
      },
      "source": [
        "List are Mutable or their elements can be changed"
      ]
    },
    {
      "cell_type": "code",
      "execution_count": null,
      "metadata": {
        "colab": {
          "base_uri": "https://localhost:8080/"
        },
        "id": "hXFEpA8i5Sgb",
        "outputId": "5b050496-5082-4397-fda5-4b5808a1786f"
      },
      "outputs": [
        {
          "name": "stdout",
          "output_type": "stream",
          "text": [
            "[2, 3, 1.8, 'English', True, 6]\n"
          ]
        }
      ],
      "source": [
        "my_list = [2, 3, 1.8, 'English', True]\n",
        "my_list.append(6)\n",
        "print(my_list)"
      ]
    },
    {
      "cell_type": "code",
      "execution_count": null,
      "metadata": {
        "colab": {
          "base_uri": "https://localhost:8080/"
        },
        "id": "XrQKntQoBDkx",
        "outputId": "707abe1f-2635-4272-d177-2656e542e309"
      },
      "outputs": [
        {
          "name": "stdout",
          "output_type": "stream",
          "text": [
            "2\n",
            "1.8\n"
          ]
        }
      ],
      "source": [
        "# print elements of a list using their index\n",
        "print(my_list[0])\n",
        "print(my_list[2])"
      ]
    },
    {
      "cell_type": "code",
      "execution_count": null,
      "metadata": {
        "colab": {
          "base_uri": "https://localhost:8080/"
        },
        "id": "Z4agZsWVBiCF",
        "outputId": "be9f577f-55f7-4d48-fb96-8e043628c0bb"
      },
      "outputs": [
        {
          "name": "stdout",
          "output_type": "stream",
          "text": [
            "[1, 2, 3, 4, 5, 12, 2, 3]\n"
          ]
        }
      ],
      "source": [
        "#list allows duplicate values\n",
        "list_1 = [1, 2, 3, 4, 5, 12, 2, 3]\n",
        "print(list_1)"
      ]
    },
    {
      "cell_type": "code",
      "execution_count": null,
      "metadata": {
        "colab": {
          "base_uri": "https://localhost:8080/"
        },
        "id": "7zXbMWNPB87V",
        "outputId": "8ad3de56-915f-4650-f1bb-842f8eb67820"
      },
      "outputs": [
        {
          "name": "stdout",
          "output_type": "stream",
          "text": [
            "8\n"
          ]
        }
      ],
      "source": [
        "print(len(list_1))"
      ]
    },
    {
      "cell_type": "code",
      "execution_count": null,
      "metadata": {
        "colab": {
          "base_uri": "https://localhost:8080/"
        },
        "id": "9__5hgdGCNLQ",
        "outputId": "0af27c62-90fa-4bbf-837b-fc174d3ed012"
      },
      "outputs": [
        {
          "name": "stdout",
          "output_type": "stream",
          "text": [
            "[]\n"
          ]
        }
      ],
      "source": [
        "# initiating an empty list\n",
        "list_2 = []\n",
        "print(list_2)"
      ]
    },
    {
      "cell_type": "code",
      "execution_count": null,
      "metadata": {
        "colab": {
          "base_uri": "https://localhost:8080/"
        },
        "id": "ru-OBqurCoEz",
        "outputId": "d31a7510-67d1-4279-b0b4-c03281e98b22"
      },
      "outputs": [
        {
          "name": "stdout",
          "output_type": "stream",
          "text": [
            "[5]\n"
          ]
        }
      ],
      "source": [
        "list_2.append(5)\n",
        "print(list_2)"
      ]
    },
    {
      "cell_type": "code",
      "execution_count": null,
      "metadata": {
        "colab": {
          "base_uri": "https://localhost:8080/"
        },
        "id": "np91N3H9Cvfw",
        "outputId": "f3c3f9ef-6c16-470b-ab26-d8e810a35a04"
      },
      "outputs": [
        {
          "name": "stdout",
          "output_type": "stream",
          "text": [
            "[2, 3, 1.8, 'English', True, 6]\n",
            "[2, 3, 'English', True, 6]\n"
          ]
        }
      ],
      "source": [
        "# delete an item in a list\n",
        "list_2 = [2, 3, 1.8, 'English', True, 6]\n",
        "print(list_2)\n",
        "\n",
        "del list_2[2]\n",
        "print(list_2)"
      ]
    },
    {
      "cell_type": "code",
      "execution_count": null,
      "metadata": {
        "colab": {
          "base_uri": "https://localhost:8080/"
        },
        "id": "xOmJjxyiE-eW",
        "outputId": "4280cf94-555a-4e46-8171-d2c43b4fb3f7"
      },
      "outputs": [
        {
          "name": "stdout",
          "output_type": "stream",
          "text": [
            "[1, 2, 3, 4, 5, 6]\n"
          ]
        }
      ],
      "source": [
        "# join two list\n",
        "list_3 = [1,2,3]\n",
        "list_4 = [4,5,6]\n",
        "\n",
        "list_5 = list_3 + list_4\n",
        "print(list_5)"
      ]
    },
    {
      "cell_type": "markdown",
      "metadata": {
        "id": "VSLStVgoFnEn"
      },
      "source": [
        "Tuple: Tuple are list but they are immutable objects enclosed in ()"
      ]
    },
    {
      "cell_type": "code",
      "execution_count": null,
      "metadata": {
        "colab": {
          "base_uri": "https://localhost:8080/"
        },
        "id": "sZUr4ygoFh6I",
        "outputId": "104f05f7-d0bc-4976-bb84-48832b14592a"
      },
      "outputs": [
        {
          "name": "stdout",
          "output_type": "stream",
          "text": [
            "(1, 2, 3, 4)\n"
          ]
        },
        {
          "data": {
            "text/plain": [
              "tuple"
            ]
          },
          "execution_count": 14,
          "metadata": {},
          "output_type": "execute_result"
        }
      ],
      "source": [
        "tuple_1 = (1, 2, 3, 4)\n",
        "print(tuple_1)\n",
        "type(tuple_1)"
      ]
    },
    {
      "cell_type": "code",
      "execution_count": null,
      "metadata": {
        "colab": {
          "base_uri": "https://localhost:8080/"
        },
        "id": "_y3lGmOHGHfN",
        "outputId": "a1782ed9-f268-4b46-f253-517b97e5aa79"
      },
      "outputs": [
        {
          "name": "stdout",
          "output_type": "stream",
          "text": [
            "(1, 2, 3.5, 'English', False)\n"
          ]
        }
      ],
      "source": [
        "# tuple allow multiple data types\n",
        "tuple_2 = (1, 2, 3.5, 'English', False)\n",
        "print(tuple_2)"
      ]
    },
    {
      "cell_type": "code",
      "execution_count": null,
      "metadata": {
        "colab": {
          "base_uri": "https://localhost:8080/"
        },
        "id": "_jbpdgvaZwST",
        "outputId": "c14c0a44-1e41-420a-c28e-4f5953f49d09"
      },
      "outputs": [
        {
          "name": "stdout",
          "output_type": "stream",
          "text": [
            "[3, 4, 5, 6]\n",
            "(3, 4, 5, 6)\n"
          ]
        }
      ],
      "source": [
        "# converting a list to a tuple\n",
        "my_list = [3, 4, 5, 6]\n",
        "print(my_list)\n",
        "\n",
        "my_tuple = tuple(my_list)\n",
        "print(my_tuple)"
      ]
    },
    {
      "cell_type": "code",
      "execution_count": null,
      "metadata": {
        "colab": {
          "base_uri": "https://localhost:8080/"
        },
        "id": "4jp4FSIDa_Kd",
        "outputId": "e4b267b3-9d88-4460-a568-8798fba6e4f3"
      },
      "outputs": [
        {
          "name": "stdout",
          "output_type": "stream",
          "text": [
            "3\n",
            "4\n"
          ]
        }
      ],
      "source": [
        "# print elements of Tuple using their index\n",
        "print(my_tuple[0])\n",
        "print(my_tuple[1])"
      ]
    },
    {
      "cell_type": "markdown",
      "metadata": {
        "id": "-HVd6qRFbVVF"
      },
      "source": [
        "Tuples are immutable or their values cannot be changed"
      ]
    },
    {
      "cell_type": "code",
      "execution_count": null,
      "metadata": {
        "colab": {
          "base_uri": "https://localhost:8080/",
          "height": 141
        },
        "id": "uwMcVIt3bS1W",
        "outputId": "1514d29b-c445-4d77-b566-c0508484e59e"
      },
      "outputs": [
        {
          "ename": "AttributeError",
          "evalue": "'tuple' object has no attribute 'append'",
          "output_type": "error",
          "traceback": [
            "\u001b[0;31m---------------------------------------------------------------------------\u001b[0m",
            "\u001b[0;31mAttributeError\u001b[0m                            Traceback (most recent call last)",
            "\u001b[0;32m<ipython-input-4-6b16393320f6>\u001b[0m in \u001b[0;36m<cell line: 1>\u001b[0;34m()\u001b[0m\n\u001b[0;32m----> 1\u001b[0;31m \u001b[0mmy_tuple\u001b[0m\u001b[0;34m.\u001b[0m\u001b[0mappend\u001b[0m\u001b[0;34m(\u001b[0m\u001b[0;36m5\u001b[0m\u001b[0;34m)\u001b[0m\u001b[0;34m\u001b[0m\u001b[0;34m\u001b[0m\u001b[0m\n\u001b[0m",
            "\u001b[0;31mAttributeError\u001b[0m: 'tuple' object has no attribute 'append'"
          ]
        }
      ],
      "source": [
        "my_tuple.append(5)"
      ]
    },
    {
      "cell_type": "code",
      "execution_count": null,
      "metadata": {
        "colab": {
          "base_uri": "https://localhost:8080/"
        },
        "id": "66NQSlCdbtt3",
        "outputId": "22823161-9749-48b4-e807-3e6838555d0e"
      },
      "outputs": [
        {
          "name": "stdout",
          "output_type": "stream",
          "text": [
            "4\n"
          ]
        }
      ],
      "source": [
        "print(len(my_tuple))"
      ]
    },
    {
      "cell_type": "markdown",
      "metadata": {
        "id": "tYhuUEPWilT_"
      },
      "source": [
        "Set"
      ]
    },
    {
      "cell_type": "code",
      "execution_count": 1,
      "metadata": {
        "id": "PKui1co1b94b"
      },
      "outputs": [],
      "source": [
        "# set are also mutable data types enclosed in curly brackets"
      ]
    },
    {
      "cell_type": "code",
      "execution_count": 2,
      "metadata": {
        "colab": {
          "base_uri": "https://localhost:8080/"
        },
        "id": "jKf24J7FizT4",
        "outputId": "7a367347-6dca-4021-a217-d15549ade340"
      },
      "outputs": [
        {
          "name": "stdout",
          "output_type": "stream",
          "text": [
            "{1, 2, 3, 4, 5}\n"
          ]
        },
        {
          "data": {
            "text/plain": [
              "set"
            ]
          },
          "execution_count": 2,
          "metadata": {},
          "output_type": "execute_result"
        }
      ],
      "source": [
        "my_set = {1, 2, 3, 4, 5}\n",
        "print(my_set)\n",
        "type(my_set)"
      ]
    },
    {
      "cell_type": "code",
      "execution_count": 3,
      "metadata": {
        "colab": {
          "base_uri": "https://localhost:8080/",
          "height": 159
        },
        "id": "WF85Xj9GjG1T",
        "outputId": "323b021e-1614-483b-9fd9-cc4a5693ed01"
      },
      "outputs": [
        {
          "ename": "TypeError",
          "evalue": "'set' object is not subscriptable",
          "output_type": "error",
          "traceback": [
            "\u001b[0;31m---------------------------------------------------------------------------\u001b[0m",
            "\u001b[0;31mTypeError\u001b[0m                                 Traceback (most recent call last)",
            "\u001b[0;32m<ipython-input-3-ff3a228bc882>\u001b[0m in \u001b[0;36m<cell line: 2>\u001b[0;34m()\u001b[0m\n\u001b[1;32m      1\u001b[0m \u001b[0;31m# set objects does not support indexing\u001b[0m\u001b[0;34m\u001b[0m\u001b[0;34m\u001b[0m\u001b[0m\n\u001b[0;32m----> 2\u001b[0;31m \u001b[0mprint\u001b[0m\u001b[0;34m(\u001b[0m\u001b[0mmy_set\u001b[0m\u001b[0;34m[\u001b[0m\u001b[0;36m0\u001b[0m\u001b[0;34m]\u001b[0m\u001b[0;34m)\u001b[0m\u001b[0;34m\u001b[0m\u001b[0;34m\u001b[0m\u001b[0m\n\u001b[0m",
            "\u001b[0;31mTypeError\u001b[0m: 'set' object is not subscriptable"
          ]
        }
      ],
      "source": [
        "# set objects does not support indexing\n",
        "print(my_set[0])"
      ]
    },
    {
      "cell_type": "code",
      "execution_count": 4,
      "metadata": {
        "colab": {
          "base_uri": "https://localhost:8080/"
        },
        "id": "ICpNe-oojUer",
        "outputId": "385f98eb-c69a-4c92-b591-67dbe573fe5f"
      },
      "outputs": [
        {
          "name": "stdout",
          "output_type": "stream",
          "text": [
            "[4, 5, 6, 7, 8]\n",
            "{4, 5, 6, 7, 8}\n"
          ]
        }
      ],
      "source": [
        "# convert a list to a set\n",
        "list_5 = [4, 5, 6, 7, 8]\n",
        "print(list_5)\n",
        "\n",
        "x = set(list_5)\n",
        "print(x)"
      ]
    },
    {
      "cell_type": "code",
      "execution_count": 5,
      "metadata": {
        "colab": {
          "base_uri": "https://localhost:8080/"
        },
        "id": "DG2TdHkvjtaF",
        "outputId": "1ee87f15-c04e-4b83-c8aa-2d4ccbe69348"
      },
      "outputs": [
        {
          "name": "stdout",
          "output_type": "stream",
          "text": [
            "{1, 2, 3, 4, 5}\n"
          ]
        }
      ],
      "source": [
        "# set objects does not allow duplicate or repeated values\n",
        "set_3 = {1, 2, 3, 4, 5, 2, 3}\n",
        "print(set_3)"
      ]
    },
    {
      "cell_type": "markdown",
      "metadata": {
        "id": "uKYOuYNlkGnp"
      },
      "source": [
        "Dictionary: It contains key-value pairs."
      ]
    },
    {
      "cell_type": "code",
      "execution_count": 6,
      "metadata": {
        "colab": {
          "base_uri": "https://localhost:8080/"
        },
        "id": "uOo-DzCSkETv",
        "outputId": "6803736a-3f15-477b-893f-b0c482110a14"
      },
      "outputs": [
        {
          "name": "stdout",
          "output_type": "stream",
          "text": [
            "{'name': 'Muneeb', 'age': 25, 'country': 'Pakistan'}\n"
          ]
        },
        {
          "data": {
            "text/plain": [
              "dict"
            ]
          },
          "execution_count": 6,
          "metadata": {},
          "output_type": "execute_result"
        }
      ],
      "source": [
        "my_dictionary = {\"name\": \"Muneeb\", \"age\": 25, \"country\": \"Pakistan\"}\n",
        "print(my_dictionary)\n",
        "type(my_dictionary)"
      ]
    },
    {
      "cell_type": "code",
      "execution_count": 7,
      "metadata": {
        "colab": {
          "base_uri": "https://localhost:8080/"
        },
        "id": "wSOEZZeb5kRK",
        "outputId": "755aa684-784a-4a2d-bd4c-cf7e2b8274d5"
      },
      "outputs": [
        {
          "name": "stdout",
          "output_type": "stream",
          "text": [
            "Muneeb\n",
            "25\n",
            "Pakistan\n"
          ]
        }
      ],
      "source": [
        "print(my_dictionary['name'])\n",
        "print(my_dictionary['age'])\n",
        "print(my_dictionary['country'])"
      ]
    },
    {
      "cell_type": "code",
      "execution_count": 8,
      "metadata": {
        "colab": {
          "base_uri": "https://localhost:8080/"
        },
        "id": "q-Q4d9OC551r",
        "outputId": "814682d6-6b47-4754-a33d-aaf6abb3caa7"
      },
      "outputs": [
        {
          "name": "stdout",
          "output_type": "stream",
          "text": [
            "{'name': 'Muneeb', 'age': 26, 'country': 'Pakistan'}\n"
          ]
        }
      ],
      "source": [
        "# dictionary doesnot allow duplicate value\n",
        "dictionary_2 = {\"name\": \"Muneeb\", \"age\": 25, \"country\": \"Pakistan\", \"age\": 26, \"name\": \"Muneeb\", \"age\": 25, \"country\": \"Pakistan\", \"age\": 26}\n",
        "print(dictionary_2)"
      ]
    }
  ],
  "metadata": {
    "colab": {
      "provenance": []
    },
    "kernelspec": {
      "display_name": "Python 3",
      "name": "python3"
    },
    "language_info": {
      "name": "python"
    }
  },
  "nbformat": 4,
  "nbformat_minor": 0
}
