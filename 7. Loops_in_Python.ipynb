{
  "cells": [
    {
      "cell_type": "code",
      "execution_count": 1,
      "metadata": {
        "colab": {
          "base_uri": "https://localhost:8080/"
        },
        "id": "-2sRvgGxGtpA",
        "outputId": "6e50915a-893f-40d0-a646-271bb2710f41"
      },
      "outputs": [
        {
          "name": "stdout",
          "output_type": "stream",
          "text": [
            "Enter the price of laptop1: 20000\n",
            "Enter the price of laptop2: 30000\n",
            "Enter the price of laptop3: 40000\n",
            "Enter the price of laptop4: 50000\n",
            "Enter the price of laptop5: 60000\n"
          ]
        }
      ],
      "source": [
        "laptop1 = int(input('Enter the price of laptop1: '))\n",
        "laptop2 = int(input('Enter the price of laptop2: '))\n",
        "laptop3 = int(input('Enter the price of laptop3: '))\n",
        "laptop4 = int(input('Enter the price of laptop4: '))\n",
        "laptop5 = int(input('Enter the price of laptop5: '))"
      ]
    },
    {
      "cell_type": "code",
      "execution_count": 5,
      "metadata": {
        "colab": {
          "base_uri": "https://localhost:8080/"
        },
        "id": "r70R4OFxG3U6",
        "outputId": "e38219a3-22a1-418d-a4a8-f6b70a049ac7"
      },
      "outputs": [
        {
          "ename": "ValueError",
          "evalue": "invalid literal for int() with base 10: ''",
          "output_type": "error",
          "traceback": [
            "\u001b[1;31m---------------------------------------------------------------------------\u001b[0m",
            "\u001b[1;31mValueError\u001b[0m                                Traceback (most recent call last)",
            "Cell \u001b[1;32mIn[5], line 2\u001b[0m\n\u001b[0;32m      1\u001b[0m \u001b[38;5;28;01mfor\u001b[39;00m i \u001b[38;5;129;01min\u001b[39;00m \u001b[38;5;28mrange\u001b[39m(\u001b[38;5;241m5\u001b[39m):  \u001b[38;5;66;03m# 0,1,2,3,4\u001b[39;00m\n\u001b[1;32m----> 2\u001b[0m   laptop_price \u001b[38;5;241m=\u001b[39m \u001b[38;5;28mint\u001b[39m(\u001b[38;5;28minput\u001b[39m(\u001b[38;5;124m'\u001b[39m\u001b[38;5;124mEnter the price of laptop: \u001b[39m\u001b[38;5;124m'\u001b[39m))\n",
            "\u001b[1;31mValueError\u001b[0m: invalid literal for int() with base 10: ''"
          ]
        }
      ],
      "source": [
        "for i in range(5):  # 0,1,2,3,4\n",
        "  laptop_price = int(input('Enter the price of laptop: '))"
      ]
    },
    {
      "cell_type": "code",
      "execution_count": 3,
      "metadata": {
        "colab": {
          "base_uri": "https://localhost:8080/"
        },
        "id": "CdOUncLzHJNb",
        "outputId": "47a9d476-6f25-4d01-f702-fcccfedc7f15"
      },
      "outputs": [
        {
          "name": "stdout",
          "output_type": "stream",
          "text": [
            "50\n",
            "100\n",
            "150\n",
            "200\n"
          ]
        }
      ],
      "source": [
        "numbers = [50, 100, 150, 200]\n",
        "\n",
        "print(numbers[0])\n",
        "print(numbers[1])\n",
        "print(numbers[2])\n",
        "print(numbers[3])"
      ]
    },
    {
      "cell_type": "code",
      "execution_count": 4,
      "metadata": {
        "colab": {
          "base_uri": "https://localhost:8080/"
        },
        "id": "lTt6B1nXIQFT",
        "outputId": "d26b40d0-497a-4343-99fd-092089ec98e3"
      },
      "outputs": [
        {
          "name": "stdout",
          "output_type": "stream",
          "text": [
            "50\n",
            "100\n",
            "150\n",
            "200\n"
          ]
        }
      ],
      "source": [
        "numbers = [50, 100, 150, 200]\n",
        "\n",
        "for i in numbers:\n",
        "  print(i)"
      ]
    },
    {
      "cell_type": "markdown",
      "metadata": {
        "id": "-3jEqqwKIgmT"
      },
      "source": [
        "While loop: It is use when we are not sure how many times to execute an action.\n",
        "\n",
        "while(condition):"
      ]
    },
    {
      "cell_type": "markdown",
      "metadata": {},
      "source": [
        "statement"
      ]
    },
    {
      "cell_type": "markdown",
      "metadata": {},
      "source": [
        "increment or decrement"
      ]
    },
    {
      "cell_type": "code",
      "execution_count": 5,
      "metadata": {
        "colab": {
          "base_uri": "https://localhost:8080/"
        },
        "id": "0-RCZDnlIYK5",
        "outputId": "f6d830c8-4e18-4ff6-d599-b0d2a94a474d"
      },
      "outputs": [
        {
          "name": "stdout",
          "output_type": "stream",
          "text": [
            "0\n",
            "1\n",
            "2\n",
            "3\n",
            "4\n",
            "5\n",
            "6\n",
            "7\n",
            "8\n",
            "9\n"
          ]
        }
      ],
      "source": [
        "i = 0\n",
        "while i < 10:\n",
        "  print(i)\n",
        "  i+= 1"
      ]
    },
    {
      "cell_type": "code",
      "execution_count": 8,
      "metadata": {
        "id": "8q3_4hq3JaZT"
      },
      "outputs": [],
      "source": [
        "i = 5\n",
        "while(i<3): # false condition\n",
        "  print(i)\n",
        "  i += 1 # i = i + 1"
      ]
    }
  ],
  "metadata": {
    "colab": {
      "provenance": []
    },
    "kernelspec": {
      "display_name": "Python 3",
      "name": "python3"
    },
    "language_info": {
      "codemirror_mode": {
        "name": "ipython",
        "version": 3
      },
      "file_extension": ".py",
      "mimetype": "text/x-python",
      "name": "python",
      "nbconvert_exporter": "python",
      "pygments_lexer": "ipython3",
      "version": "3.12.4"
    }
  },
  "nbformat": 4,
  "nbformat_minor": 0
}
